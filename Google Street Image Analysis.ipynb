{
  "nbformat": 4,
  "nbformat_minor": 0,
  "metadata": {
    "colab": {
      "provenance": [],
      "gpuType": "T4"
    },
    "kernelspec": {
      "name": "python3",
      "display_name": "Python 3"
    },
    "language_info": {
      "name": "python"
    },
    "accelerator": "GPU"
  },
  "cells": [
    {
      "cell_type": "code",
      "execution_count": 1,
      "metadata": {
        "id": "sw2933X9D5R0"
      },
      "outputs": [],
      "source": [
        "#import Libraries\n",
        "\n",
        "import numpy as np\n",
        "import pandas as pd\n",
        "import matplotlib.pyplot as plt\n",
        "import seaborn as sns\n",
        "%matplotlib inline\n",
        "import scipy.stats as stats\n"
      ]
    },
    {
      "cell_type": "code",
      "source": [
        "#mount drive into google colab\n",
        "from google.colab import drive\n",
        "drive.mount(\"/content/drive\")"
      ],
      "metadata": {
        "colab": {
          "base_uri": "https://localhost:8080/"
        },
        "id": "T_2pv6QIHXh4",
        "outputId": "9b86140f-5c88-4abd-f2ff-8e2681261572"
      },
      "execution_count": 2,
      "outputs": [
        {
          "output_type": "stream",
          "name": "stdout",
          "text": [
            "Mounted at /content/drive\n"
          ]
        }
      ]
    },
    {
      "cell_type": "markdown",
      "source": [
        "• DOMAIN: Autonomous Vehicles\n",
        "\n",
        "• CONTEXT: A Recognising multi-digit numbers in photographs captured at street level is an important component of modern-day map\n",
        "making. A classic example of a corpus of such street-level photographs is Google’s Street View imagery composed of hundreds of millions\n",
        "of geo-located 360-degree panoramic images.\n",
        "\n",
        "The ability to automatically transcribe an address number from a geo-located patch of pixels and associate the transcribed number with a\n",
        "known street address helps pinpoint, with a high degree of accuracy, the location of the building it represents. More broadly, recognising\n",
        "numbers in photographs is a problem of interest to the optical character recognition community.\n",
        "\n",
        "While OCR on constrained domains like document processing is well studied, arbitrary multi-character text recognition in photographs is\n",
        "still highly challenging. This difficulty arises due to the wide variability in the visual appearance of text in the wild on account of a large\n",
        "range of fonts, colours, styles, orientations, and character arrangements.\n",
        "The recognition problem is further complicated by environmental factors such as lighting, shadows, specularity, and occlusions as well as\n",
        "by image acquisition factors such as resolution, motion, and focus blurs. In this project, we will use the dataset with images centred around\n",
        "a single digit (many of the images do contain some distractors at the sides). Although we are taking a sample of the data which is simpler,\n",
        "it is more complex than MNIST because of the distractors.\n",
        "\n",
        "• DATA DESCRIPTION: The SVHN is a real-world image dataset for developing machine learning and object recognition algorithms with the\n",
        "minimal requirement on data formatting but comes from a significantly harder, unsolved, real-world problem (recognising digits and\n",
        "numbers in natural scene images). SVHN is obtained from house numbers in Google Street View images."
      ],
      "metadata": {
        "id": "Wcu-fXbTkwY4"
      }
    },
    {
      "cell_type": "markdown",
      "source": [
        "**A. Read the .h5 file and assign to a variable.**"
      ],
      "metadata": {
        "id": "YodnlI72-7dM"
      }
    },
    {
      "cell_type": "code",
      "source": [
        "import h5py\n",
        "\n",
        "vehicle=h5py.File(\"/content/drive/My Drive/Colab Notebooks/Deep Learning/Autonomous_Vehicles_SVHN_single_grey1.h5\", 'r')"
      ],
      "metadata": {
        "id": "bMX7ZUwyk8fH"
      },
      "execution_count": 3,
      "outputs": []
    },
    {
      "cell_type": "markdown",
      "source": [
        "**B. Print all the keys from the .h5 file.**"
      ],
      "metadata": {
        "id": "ChcG72Ww_B6Z"
      }
    },
    {
      "cell_type": "code",
      "source": [
        "print(vehicle.keys())"
      ],
      "metadata": {
        "colab": {
          "base_uri": "https://localhost:8080/"
        },
        "id": "f3E5so6_nrpN",
        "outputId": "32d3e9ac-f2b8-4dee-f41d-02589fd33293"
      },
      "execution_count": 4,
      "outputs": [
        {
          "output_type": "stream",
          "name": "stdout",
          "text": [
            "<KeysViewHDF5 ['X_test', 'X_train', 'X_val', 'y_test', 'y_train', 'y_val']>\n"
          ]
        }
      ]
    },
    {
      "cell_type": "markdown",
      "source": [
        "**C. Split the data into X_train, X_test, Y_train, Y_test**"
      ],
      "metadata": {
        "id": "RKIKbOMt_NFv"
      }
    },
    {
      "cell_type": "code",
      "source": [
        "X_test=vehicle['X_test']\n",
        "X_train=vehicle['X_train']\n",
        "X_val=vehicle['X_val']\n",
        "y_test=vehicle['y_test']\n",
        "y_train=vehicle['y_train']\n",
        "y_val=vehicle['y_val']"
      ],
      "metadata": {
        "id": "4kxw1Nd9oCZV"
      },
      "execution_count": 5,
      "outputs": []
    },
    {
      "cell_type": "markdown",
      "source": [
        "## **2. Data Visualisation and preprocessing**\n",
        "\n",
        "**A. Print shape of all the 4 data split into x, y, train, test to verify if x & y is in sync.**"
      ],
      "metadata": {
        "id": "_S5AufXJ_Uiy"
      }
    },
    {
      "cell_type": "code",
      "source": [
        "X_train.shape, X_test.shape, y_train.shape, y_test.shape"
      ],
      "metadata": {
        "colab": {
          "base_uri": "https://localhost:8080/"
        },
        "id": "cYFhswhhovox",
        "outputId": "7e78efc4-c7ef-4a39-ade3-5899a756c2bc"
      },
      "execution_count": 6,
      "outputs": [
        {
          "output_type": "execute_result",
          "data": {
            "text/plain": [
              "((42000, 32, 32), (18000, 32, 32), (42000,), (18000,))"
            ]
          },
          "metadata": {},
          "execution_count": 6
        }
      ]
    },
    {
      "cell_type": "code",
      "source": [
        "X_val.shape, y_val.shape"
      ],
      "metadata": {
        "colab": {
          "base_uri": "https://localhost:8080/"
        },
        "id": "cRlv2fz3o6dE",
        "outputId": "c4af3a02-c6d8-4160-a6c9-9cc1270aa82a"
      },
      "execution_count": 7,
      "outputs": [
        {
          "output_type": "execute_result",
          "data": {
            "text/plain": [
              "((60000, 32, 32), (60000,))"
            ]
          },
          "metadata": {},
          "execution_count": 7
        }
      ]
    },
    {
      "cell_type": "markdown",
      "source": [
        "**B. Visualise first 10 images in train data and print its corresponding labels.**"
      ],
      "metadata": {
        "id": "anfGq1Yi_hsl"
      }
    },
    {
      "cell_type": "code",
      "source": [
        "plt.figure(figsize=(10,2))\n",
        "for i in range(10):\n",
        "    plt.subplot(1, 10, i+1)\n",
        "    plt.imshow(X_train[i], cmap='gray')\n",
        "    plt.axis('off')\n",
        "plt.show()\n",
        "\n",
        "print('label:', y_train[0:10])\n"
      ],
      "metadata": {
        "colab": {
          "base_uri": "https://localhost:8080/",
          "height": 119
        },
        "id": "hDj-pGh2pEhA",
        "outputId": "d581484b-c777-44ca-a0f4-064d4e634a26"
      },
      "execution_count": 8,
      "outputs": [
        {
          "output_type": "display_data",
          "data": {
            "text/plain": [
              "<Figure size 1000x200 with 10 Axes>"
            ],
            "image/png": "[encoded data removed]"
          },
          "metadata": {}
        },
        {
          "output_type": "stream",
          "name": "stdout",
          "text": [
            "label: [2 6 7 4 4 0 3 0 7 3]\n"
          ]
        }
      ]
    },
    {
      "cell_type": "markdown",
      "source": [
        "**C. Reshape all the images with appropriate shape update the data in same variable.**"
      ],
      "metadata": {
        "id": "OM_77yNS_pZV"
      }
    },
    {
      "cell_type": "code",
      "source": [
        "X_train= np.asarray(X_train).reshape(42000, 1024)\n",
        "X_test= np.asarray(X_test).reshape(18000, 1024)\n",
        "X_val= np.asarray(X_val).reshape(60000, 1024)"
      ],
      "metadata": {
        "id": "Z3RiXDdlt4ik"
      },
      "execution_count": 9,
      "outputs": []
    },
    {
      "cell_type": "markdown",
      "source": [
        "**D. Normalise the images i.e. Normalise the pixel values.**"
      ],
      "metadata": {
        "id": "ODDfU-5k_uUm"
      }
    },
    {
      "cell_type": "code",
      "source": [
        "X_train=X_train/255.0\n",
        "X_test=X_test/255.0\n",
        "X_val=X_val/255.0\n",
        "\n",
        "X_train.shape, X_test.shape, X_val.shape"
      ],
      "metadata": {
        "colab": {
          "base_uri": "https://localhost:8080/"
        },
        "id": "6qilsGgKvuRB",
        "outputId": "7b4124ac-1cc2-4698-979d-d4f1a0a3aec5"
      },
      "execution_count": 10,
      "outputs": [
        {
          "output_type": "execute_result",
          "data": {
            "text/plain": [
              "((42000, 1024), (18000, 1024), (60000, 1024))"
            ]
          },
          "metadata": {},
          "execution_count": 10
        }
      ]
    },
    {
      "cell_type": "markdown",
      "source": [
        "**E. Transform Labels into format acceptable by Neural Network**"
      ],
      "metadata": {
        "id": "9SJphzoo_z_v"
      }
    },
    {
      "cell_type": "code",
      "source": [
        "from tensorflow.keras.utils import to_categorical\n",
        "y_train=to_categorical(y_train)\n",
        "y_test=to_categorical(y_test)\n",
        "y_val=to_categorical(y_val)"
      ],
      "metadata": {
        "id": "-9eCzQ1DwbpW"
      },
      "execution_count": 11,
      "outputs": []
    },
    {
      "cell_type": "markdown",
      "source": [
        "**F. Print total Number of classes in the Dataset.**"
      ],
      "metadata": {
        "id": "zjY427EW_7WZ"
      }
    },
    {
      "cell_type": "code",
      "source": [
        "classes=y_test.shape[1]\n",
        "print(\"total Number of classes in the Dataset:\", classes)"
      ],
      "metadata": {
        "colab": {
          "base_uri": "https://localhost:8080/"
        },
        "id": "AXDbPEMMwv4V",
        "outputId": "c236dfa0-4c70-4d86-fad6-98095d9bcdb5"
      },
      "execution_count": 12,
      "outputs": [
        {
          "output_type": "stream",
          "name": "stdout",
          "text": [
            "total Number of classes in the Dataset: 10\n"
          ]
        }
      ]
    },
    {
      "cell_type": "markdown",
      "source": [
        "## **3. Model Training & Evaluation using Neural Network**\n",
        "\n",
        "**A. Design a Neural Network to train a classifier.**"
      ],
      "metadata": {
        "id": "gCgfEqwnAFfi"
      }
    },
    {
      "cell_type": "code",
      "source": [
        "from tensorflow.keras.models import Sequential\n",
        "from tensorflow.keras import optimizers\n",
        "from tensorflow.keras.optimizers import Adam\n",
        "import tensorflow as tf\n",
        "from tensorflow.keras.models import Sequential\n",
        "from tensorflow.keras.layers import Dense, BatchNormalization, Dropout\n",
        "from tensorflow.keras.optimizers import Adam\n",
        "from tensorflow.keras import backend\n",
        "import random\n"
      ],
      "metadata": {
        "id": "fwPtsNMY082_"
      },
      "execution_count": 15,
      "outputs": []
    },
    {
      "cell_type": "code",
      "source": [
        "backend.clear_session()\n",
        "np.random.seed(42)\n",
        "import random\n",
        "random.seed(42)\n",
        "tf.random.set_seed(42)\n",
        "\n",
        "model_v=Sequential()\n",
        "# input layer\n",
        "model_v.add(Dense(256, activation='relu'))\n",
        "model_v.add(Dense(128, activation='relu')) #1st hidden layer\n",
        "model_v.add(Dense(64, activation='relu')) #2nd hidden layer\n",
        "model_v.add(Dense(32, activation='relu'))  # 3rd hidden layer\n",
        "model_v.add(Dense(10, activation='softmax'))"
      ],
      "metadata": {
        "id": "pLID-jI-xkZt"
      },
      "execution_count": 16,
      "outputs": []
    },
    {
      "cell_type": "markdown",
      "source": [
        "**B. Train the classifier using previously designed Architecture (Use best suitable parameters).**"
      ],
      "metadata": {
        "id": "l81vMDqJAQMJ"
      }
    },
    {
      "cell_type": "code",
      "source": [
        "adam=Adam(learning_rate=0.001)\n",
        "model_v.compile(optimizer=adam, loss='categorical_crossentropy', metrics=['accuracy'])"
      ],
      "metadata": {
        "id": "9g5ES3PZ-fbo"
      },
      "execution_count": 17,
      "outputs": []
    },
    {
      "cell_type": "code",
      "source": [
        "history_v1=model_v.fit(X_train, y_train, epochs=100, batch_size=200, validation_data=(X_val, y_val), verbose=2)"
      ],
      "metadata": {
        "id": "JfJ5cq7WAt4X",
        "colab": {
          "base_uri": "https://localhost:8080/"
        },
        "outputId": "a2a21d84-aa68-49d2-9522-ecd6e144c499"
      },
      "execution_count": 18,
      "outputs": [
        {
          "output_type": "stream",
          "name": "stdout",
          "text": [
            "Epoch 1/100\n",
            "210/210 - 6s - 29ms/step - accuracy: 0.1138 - loss: 2.2946 - val_accuracy: 0.1529 - val_loss: 2.2039\n",
            "Epoch 2/100\n",
            "210/210 - 2s - 9ms/step - accuracy: 0.2154 - loss: 2.0937 - val_accuracy: 0.3437 - val_loss: 1.8859\n",
            "Epoch 3/100\n",
            "210/210 - 2s - 9ms/step - accuracy: 0.4326 - loss: 1.6440 - val_accuracy: 0.5476 - val_loss: 1.3823\n",
            "Epoch 4/100\n",
            "210/210 - 1s - 5ms/step - accuracy: 0.5640 - loss: 1.3246 - val_accuracy: 0.6176 - val_loss: 1.2029\n",
            "Epoch 5/100\n",
            "210/210 - 1s - 6ms/step - accuracy: 0.6187 - loss: 1.1904 - val_accuracy: 0.6514 - val_loss: 1.1171\n",
            "Epoch 6/100\n",
            "210/210 - 1s - 5ms/step - accuracy: 0.6609 - loss: 1.0835 - val_accuracy: 0.6646 - val_loss: 1.0655\n",
            "Epoch 7/100\n",
            "210/210 - 1s - 5ms/step - accuracy: 0.6835 - loss: 1.0181 - val_accuracy: 0.6828 - val_loss: 1.0138\n",
            "Epoch 8/100\n",
            "210/210 - 1s - 6ms/step - accuracy: 0.6985 - loss: 0.9733 - val_accuracy: 0.7011 - val_loss: 0.9623\n",
            "Epoch 9/100\n",
            "210/210 - 1s - 5ms/step - accuracy: 0.7072 - loss: 0.9427 - val_accuracy: 0.7040 - val_loss: 0.9543\n",
            "Epoch 10/100\n",
            "210/210 - 1s - 5ms/step - accuracy: 0.7173 - loss: 0.9138 - val_accuracy: 0.7122 - val_loss: 0.9285\n",
            "Epoch 11/100\n",
            "210/210 - 1s - 5ms/step - accuracy: 0.7228 - loss: 0.8915 - val_accuracy: 0.7206 - val_loss: 0.9002\n",
            "Epoch 12/100\n",
            "210/210 - 1s - 6ms/step - accuracy: 0.7313 - loss: 0.8619 - val_accuracy: 0.7294 - val_loss: 0.8742\n",
            "Epoch 13/100\n",
            "210/210 - 1s - 6ms/step - accuracy: 0.7362 - loss: 0.8482 - val_accuracy: 0.7413 - val_loss: 0.8363\n",
            "Epoch 14/100\n",
            "210/210 - 2s - 10ms/step - accuracy: 0.7445 - loss: 0.8201 - val_accuracy: 0.7528 - val_loss: 0.8033\n",
            "Epoch 15/100\n",
            "210/210 - 1s - 6ms/step - accuracy: 0.7563 - loss: 0.7867 - val_accuracy: 0.7565 - val_loss: 0.7891\n",
            "Epoch 16/100\n",
            "210/210 - 1s - 7ms/step - accuracy: 0.7604 - loss: 0.7678 - val_accuracy: 0.7600 - val_loss: 0.7786\n",
            "Epoch 17/100\n",
            "210/210 - 1s - 5ms/step - accuracy: 0.7677 - loss: 0.7485 - val_accuracy: 0.7683 - val_loss: 0.7520\n",
            "Epoch 18/100\n",
            "210/210 - 1s - 4ms/step - accuracy: 0.7726 - loss: 0.7336 - val_accuracy: 0.7784 - val_loss: 0.7216\n",
            "Epoch 19/100\n",
            "210/210 - 1s - 4ms/step - accuracy: 0.7783 - loss: 0.7171 - val_accuracy: 0.7780 - val_loss: 0.7225\n",
            "Epoch 20/100\n",
            "210/210 - 1s - 5ms/step - accuracy: 0.7842 - loss: 0.6971 - val_accuracy: 0.7812 - val_loss: 0.7112\n",
            "Epoch 21/100\n",
            "210/210 - 1s - 4ms/step - accuracy: 0.7876 - loss: 0.6863 - val_accuracy: 0.7849 - val_loss: 0.7009\n",
            "Epoch 22/100\n",
            "210/210 - 2s - 10ms/step - accuracy: 0.7928 - loss: 0.6689 - val_accuracy: 0.7924 - val_loss: 0.6792\n",
            "Epoch 23/100\n",
            "210/210 - 3s - 13ms/step - accuracy: 0.7981 - loss: 0.6557 - val_accuracy: 0.7955 - val_loss: 0.6699\n",
            "Epoch 24/100\n",
            "210/210 - 1s - 5ms/step - accuracy: 0.7996 - loss: 0.6443 - val_accuracy: 0.7921 - val_loss: 0.6754\n",
            "Epoch 25/100\n",
            "210/210 - 1s - 6ms/step - accuracy: 0.8012 - loss: 0.6386 - val_accuracy: 0.7946 - val_loss: 0.6685\n",
            "Epoch 26/100\n",
            "210/210 - 1s - 6ms/step - accuracy: 0.8040 - loss: 0.6297 - val_accuracy: 0.7973 - val_loss: 0.6568\n",
            "Epoch 27/100\n",
            "210/210 - 1s - 5ms/step - accuracy: 0.8057 - loss: 0.6252 - val_accuracy: 0.7996 - val_loss: 0.6484\n",
            "Epoch 28/100\n",
            "210/210 - 1s - 5ms/step - accuracy: 0.8076 - loss: 0.6150 - val_accuracy: 0.8053 - val_loss: 0.6321\n",
            "Epoch 29/100\n",
            "210/210 - 1s - 6ms/step - accuracy: 0.8101 - loss: 0.6064 - val_accuracy: 0.8057 - val_loss: 0.6295\n",
            "Epoch 30/100\n",
            "210/210 - 1s - 5ms/step - accuracy: 0.8127 - loss: 0.6010 - val_accuracy: 0.8124 - val_loss: 0.6126\n",
            "Epoch 31/100\n",
            "210/210 - 1s - 6ms/step - accuracy: 0.8114 - loss: 0.5999 - val_accuracy: 0.8051 - val_loss: 0.6292\n",
            "Epoch 32/100\n",
            "210/210 - 2s - 7ms/step - accuracy: 0.8123 - loss: 0.5958 - val_accuracy: 0.8172 - val_loss: 0.5982\n",
            "Epoch 33/100\n",
            "210/210 - 2s - 9ms/step - accuracy: 0.8155 - loss: 0.5854 - val_accuracy: 0.8145 - val_loss: 0.6028\n",
            "Epoch 34/100\n",
            "210/210 - 2s - 8ms/step - accuracy: 0.8193 - loss: 0.5758 - val_accuracy: 0.8158 - val_loss: 0.5963\n",
            "Epoch 35/100\n",
            "210/210 - 1s - 5ms/step - accuracy: 0.8197 - loss: 0.5746 - val_accuracy: 0.8245 - val_loss: 0.5741\n",
            "Epoch 36/100\n",
            "210/210 - 1s - 5ms/step - accuracy: 0.8240 - loss: 0.5622 - val_accuracy: 0.8266 - val_loss: 0.5657\n",
            "Epoch 37/100\n",
            "210/210 - 1s - 5ms/step - accuracy: 0.8273 - loss: 0.5536 - val_accuracy: 0.8294 - val_loss: 0.5597\n",
            "Epoch 38/100\n",
            "210/210 - 1s - 4ms/step - accuracy: 0.8310 - loss: 0.5417 - val_accuracy: 0.8322 - val_loss: 0.5509\n",
            "Epoch 39/100\n",
            "210/210 - 1s - 5ms/step - accuracy: 0.8334 - loss: 0.5322 - val_accuracy: 0.8339 - val_loss: 0.5460\n",
            "Epoch 40/100\n",
            "210/210 - 1s - 4ms/step - accuracy: 0.8326 - loss: 0.5345 - val_accuracy: 0.8364 - val_loss: 0.5363\n",
            "Epoch 41/100\n",
            "210/210 - 1s - 7ms/step - accuracy: 0.8343 - loss: 0.5240 - val_accuracy: 0.8330 - val_loss: 0.5498\n",
            "Epoch 42/100\n",
            "210/210 - 2s - 9ms/step - accuracy: 0.8372 - loss: 0.5173 - val_accuracy: 0.8364 - val_loss: 0.5387\n",
            "Epoch 43/100\n",
            "210/210 - 1s - 6ms/step - accuracy: 0.8376 - loss: 0.5172 - val_accuracy: 0.8353 - val_loss: 0.5403\n",
            "Epoch 44/100\n",
            "210/210 - 2s - 11ms/step - accuracy: 0.8353 - loss: 0.5202 - val_accuracy: 0.8330 - val_loss: 0.5518\n",
            "Epoch 45/100\n",
            "210/210 - 1s - 4ms/step - accuracy: 0.8393 - loss: 0.5124 - val_accuracy: 0.8337 - val_loss: 0.5512\n",
            "Epoch 46/100\n",
            "210/210 - 1s - 7ms/step - accuracy: 0.8397 - loss: 0.5072 - val_accuracy: 0.8316 - val_loss: 0.5504\n",
            "Epoch 47/100\n",
            "210/210 - 1s - 6ms/step - accuracy: 0.8405 - loss: 0.5050 - val_accuracy: 0.8322 - val_loss: 0.5496\n",
            "Epoch 48/100\n",
            "210/210 - 1s - 4ms/step - accuracy: 0.8429 - loss: 0.4996 - val_accuracy: 0.8350 - val_loss: 0.5425\n",
            "Epoch 49/100\n",
            "210/210 - 1s - 4ms/step - accuracy: 0.8474 - loss: 0.4854 - val_accuracy: 0.8350 - val_loss: 0.5413\n",
            "Epoch 50/100\n",
            "210/210 - 1s - 4ms/step - accuracy: 0.8492 - loss: 0.4800 - val_accuracy: 0.8305 - val_loss: 0.5567\n",
            "Epoch 51/100\n",
            "210/210 - 1s - 7ms/step - accuracy: 0.8506 - loss: 0.4781 - val_accuracy: 0.8322 - val_loss: 0.5507\n",
            "Epoch 52/100\n",
            "210/210 - 2s - 9ms/step - accuracy: 0.8497 - loss: 0.4775 - val_accuracy: 0.8300 - val_loss: 0.5617\n",
            "Epoch 53/100\n",
            "210/210 - 2s - 9ms/step - accuracy: 0.8497 - loss: 0.4771 - val_accuracy: 0.8339 - val_loss: 0.5503\n",
            "Epoch 54/100\n",
            "210/210 - 1s - 5ms/step - accuracy: 0.8508 - loss: 0.4750 - val_accuracy: 0.8322 - val_loss: 0.5527\n",
            "Epoch 55/100\n",
            "210/210 - 1s - 6ms/step - accuracy: 0.8500 - loss: 0.4765 - val_accuracy: 0.8313 - val_loss: 0.5497\n",
            "Epoch 56/100\n",
            "210/210 - 1s - 6ms/step - accuracy: 0.8480 - loss: 0.4776 - val_accuracy: 0.8366 - val_loss: 0.5378\n",
            "Epoch 57/100\n",
            "210/210 - 1s - 5ms/step - accuracy: 0.8508 - loss: 0.4732 - val_accuracy: 0.8319 - val_loss: 0.5484\n",
            "Epoch 58/100\n",
            "210/210 - 1s - 5ms/step - accuracy: 0.8505 - loss: 0.4757 - val_accuracy: 0.8312 - val_loss: 0.5461\n",
            "Epoch 59/100\n",
            "210/210 - 1s - 5ms/step - accuracy: 0.8494 - loss: 0.4718 - val_accuracy: 0.8289 - val_loss: 0.5544\n",
            "Epoch 60/100\n",
            "210/210 - 1s - 4ms/step - accuracy: 0.8525 - loss: 0.4651 - val_accuracy: 0.8307 - val_loss: 0.5446\n",
            "Epoch 61/100\n",
            "210/210 - 1s - 5ms/step - accuracy: 0.8535 - loss: 0.4581 - val_accuracy: 0.8327 - val_loss: 0.5382\n",
            "Epoch 62/100\n",
            "210/210 - 1s - 6ms/step - accuracy: 0.8535 - loss: 0.4585 - val_accuracy: 0.8387 - val_loss: 0.5210\n",
            "Epoch 63/100\n",
            "210/210 - 1s - 6ms/step - accuracy: 0.8556 - loss: 0.4527 - val_accuracy: 0.8275 - val_loss: 0.5571\n",
            "Epoch 64/100\n",
            "210/210 - 2s - 10ms/step - accuracy: 0.8560 - loss: 0.4502 - val_accuracy: 0.8326 - val_loss: 0.5436\n",
            "Epoch 65/100\n",
            "210/210 - 1s - 7ms/step - accuracy: 0.8585 - loss: 0.4411 - val_accuracy: 0.8297 - val_loss: 0.5519\n",
            "Epoch 66/100\n",
            "210/210 - 1s - 5ms/step - accuracy: 0.8589 - loss: 0.4411 - val_accuracy: 0.8318 - val_loss: 0.5479\n",
            "Epoch 67/100\n",
            "210/210 - 2s - 8ms/step - accuracy: 0.8564 - loss: 0.4503 - val_accuracy: 0.8238 - val_loss: 0.5704\n",
            "Epoch 68/100\n",
            "210/210 - 2s - 9ms/step - accuracy: 0.8535 - loss: 0.4564 - val_accuracy: 0.8040 - val_loss: 0.6334\n",
            "Epoch 69/100\n",
            "210/210 - 1s - 5ms/step - accuracy: 0.8543 - loss: 0.4535 - val_accuracy: 0.8191 - val_loss: 0.5816\n",
            "Epoch 70/100\n",
            "210/210 - 1s - 5ms/step - accuracy: 0.8570 - loss: 0.4422 - val_accuracy: 0.8360 - val_loss: 0.5317\n",
            "Epoch 71/100\n",
            "210/210 - 2s - 9ms/step - accuracy: 0.8588 - loss: 0.4387 - val_accuracy: 0.8318 - val_loss: 0.5393\n",
            "Epoch 72/100\n",
            "210/210 - 2s - 9ms/step - accuracy: 0.8629 - loss: 0.4292 - val_accuracy: 0.8363 - val_loss: 0.5308\n",
            "Epoch 73/100\n",
            "210/210 - 2s - 7ms/step - accuracy: 0.8644 - loss: 0.4241 - val_accuracy: 0.8330 - val_loss: 0.5398\n",
            "Epoch 74/100\n",
            "210/210 - 1s - 6ms/step - accuracy: 0.8623 - loss: 0.4292 - val_accuracy: 0.8315 - val_loss: 0.5403\n",
            "Epoch 75/100\n",
            "210/210 - 1s - 5ms/step - accuracy: 0.8621 - loss: 0.4274 - val_accuracy: 0.8303 - val_loss: 0.5447\n",
            "Epoch 76/100\n",
            "210/210 - 1s - 5ms/step - accuracy: 0.8613 - loss: 0.4283 - val_accuracy: 0.8225 - val_loss: 0.5704\n",
            "Epoch 77/100\n",
            "210/210 - 1s - 6ms/step - accuracy: 0.8595 - loss: 0.4351 - val_accuracy: 0.8285 - val_loss: 0.5597\n",
            "Epoch 78/100\n",
            "210/210 - 1s - 5ms/step - accuracy: 0.8602 - loss: 0.4292 - val_accuracy: 0.8268 - val_loss: 0.5595\n",
            "Epoch 79/100\n",
            "210/210 - 1s - 7ms/step - accuracy: 0.8604 - loss: 0.4286 - val_accuracy: 0.8355 - val_loss: 0.5379\n",
            "Epoch 80/100\n",
            "210/210 - 1s - 5ms/step - accuracy: 0.8621 - loss: 0.4246 - val_accuracy: 0.8334 - val_loss: 0.5463\n",
            "Epoch 81/100\n",
            "210/210 - 2s - 8ms/step - accuracy: 0.8607 - loss: 0.4277 - val_accuracy: 0.8300 - val_loss: 0.5542\n",
            "Epoch 82/100\n",
            "210/210 - 2s - 11ms/step - accuracy: 0.8630 - loss: 0.4206 - val_accuracy: 0.8374 - val_loss: 0.5294\n",
            "Epoch 83/100\n",
            "210/210 - 1s - 5ms/step - accuracy: 0.8639 - loss: 0.4182 - val_accuracy: 0.8373 - val_loss: 0.5338\n",
            "Epoch 84/100\n",
            "210/210 - 1s - 6ms/step - accuracy: 0.8684 - loss: 0.4071 - val_accuracy: 0.8400 - val_loss: 0.5252\n",
            "Epoch 85/100\n",
            "210/210 - 1s - 5ms/step - accuracy: 0.8673 - loss: 0.4105 - val_accuracy: 0.8475 - val_loss: 0.5022\n",
            "Epoch 86/100\n",
            "210/210 - 1s - 5ms/step - accuracy: 0.8681 - loss: 0.4070 - val_accuracy: 0.8420 - val_loss: 0.5192\n",
            "Epoch 87/100\n",
            "210/210 - 1s - 5ms/step - accuracy: 0.8722 - loss: 0.3947 - val_accuracy: 0.8446 - val_loss: 0.5127\n",
            "Epoch 88/100\n",
            "210/210 - 1s - 5ms/step - accuracy: 0.8723 - loss: 0.3956 - val_accuracy: 0.8418 - val_loss: 0.5210\n",
            "Epoch 89/100\n",
            "210/210 - 1s - 6ms/step - accuracy: 0.8712 - loss: 0.3984 - val_accuracy: 0.8449 - val_loss: 0.5130\n",
            "Epoch 90/100\n",
            "210/210 - 1s - 7ms/step - accuracy: 0.8694 - loss: 0.4013 - val_accuracy: 0.8452 - val_loss: 0.5097\n",
            "Epoch 91/100\n",
            "210/210 - 1s - 7ms/step - accuracy: 0.8679 - loss: 0.4041 - val_accuracy: 0.8353 - val_loss: 0.5463\n",
            "Epoch 92/100\n",
            "210/210 - 2s - 11ms/step - accuracy: 0.8665 - loss: 0.4130 - val_accuracy: 0.8282 - val_loss: 0.5760\n",
            "Epoch 93/100\n",
            "210/210 - 1s - 6ms/step - accuracy: 0.8643 - loss: 0.4177 - val_accuracy: 0.8335 - val_loss: 0.5519\n",
            "Epoch 94/100\n",
            "210/210 - 1s - 6ms/step - accuracy: 0.8667 - loss: 0.4091 - val_accuracy: 0.8330 - val_loss: 0.5509\n",
            "Epoch 95/100\n",
            "210/210 - 1s - 6ms/step - accuracy: 0.8696 - loss: 0.4013 - val_accuracy: 0.8329 - val_loss: 0.5536\n",
            "Epoch 96/100\n",
            "210/210 - 1s - 6ms/step - accuracy: 0.8694 - loss: 0.3990 - val_accuracy: 0.8340 - val_loss: 0.5501\n",
            "Epoch 97/100\n",
            "210/210 - 1s - 6ms/step - accuracy: 0.8704 - loss: 0.3926 - val_accuracy: 0.8312 - val_loss: 0.5591\n",
            "Epoch 98/100\n",
            "210/210 - 2s - 8ms/step - accuracy: 0.8703 - loss: 0.3934 - val_accuracy: 0.8187 - val_loss: 0.6008\n",
            "Epoch 99/100\n",
            "210/210 - 1s - 5ms/step - accuracy: 0.8722 - loss: 0.3888 - val_accuracy: 0.8224 - val_loss: 0.5905\n",
            "Epoch 100/100\n",
            "210/210 - 1s - 7ms/step - accuracy: 0.8731 - loss: 0.3901 - val_accuracy: 0.8418 - val_loss: 0.5278\n"
          ]
        }
      ]
    },
    {
      "cell_type": "code",
      "source": [
        "results_v=model_v.evaluate(X_test, y_test)\n",
        "print('loss:', results_v[0])\n",
        "print('accuracy:', results_v[1])"
      ],
      "metadata": {
        "colab": {
          "base_uri": "https://localhost:8080/"
        },
        "id": "pSFaGcYFB4Wd",
        "outputId": "6070adbb-3b03-4e63-c980-28f95386b765"
      },
      "execution_count": 19,
      "outputs": [
        {
          "output_type": "stream",
          "name": "stdout",
          "text": [
            "\u001b[1m563/563\u001b[0m \u001b[32m━━━━━━━━━━━━━━━━━━━━\u001b[0m\u001b[37m\u001b[0m \u001b[1m2s\u001b[0m 2ms/step - accuracy: 0.8062 - loss: 0.7120\n",
            "loss: 0.7445113062858582\n",
            "accuracy: 0.8008333444595337\n"
          ]
        }
      ]
    },
    {
      "cell_type": "code",
      "source": [
        "y_predict=model_v.predict(X_test)"
      ],
      "metadata": {
        "colab": {
          "base_uri": "https://localhost:8080/"
        },
        "id": "Pdygvu0HDlB-",
        "outputId": "80b7566d-d951-4e53-accc-94e5115ea183"
      },
      "execution_count": 20,
      "outputs": [
        {
          "output_type": "stream",
          "name": "stdout",
          "text": [
            "\u001b[1m563/563\u001b[0m \u001b[32m━━━━━━━━━━━━━━━━━━━━\u001b[0m\u001b[37m\u001b[0m \u001b[1m1s\u001b[0m 2ms/step\n"
          ]
        }
      ]
    },
    {
      "cell_type": "markdown",
      "source": [
        "**C. Evaluate performance of the model with appropriate metrics.**\n",
        "\n",
        "**D. Plot the training loss, validation loss vs number of epochs and training accuracy, validation accuracy vs number of epochs plot and write your observations on the same.**"
      ],
      "metadata": {
        "id": "7Uw6Fzl2Bs-T"
      }
    },
    {
      "cell_type": "code",
      "source": [
        "from sklearn import metrics\n",
        "from sklearn.metrics import classification_report\n",
        "\n",
        "vehicle_cr=classification_report(y_test.argmax(axis=1), y_predict.argmax(axis=1))\n",
        "\n",
        "print('performance metrics:', '\\n\\n', vehicle_cr)\n",
        "\n"
      ],
      "metadata": {
        "colab": {
          "base_uri": "https://localhost:8080/"
        },
        "id": "NbM0eifrDMEp",
        "outputId": "1139dc32-13a6-4699-c6bc-94f61ff2de56"
      },
      "execution_count": 21,
      "outputs": [
        {
          "output_type": "stream",
          "name": "stdout",
          "text": [
            "performance metrics: \n",
            "\n",
            "               precision    recall  f1-score   support\n",
            "\n",
            "           0       0.80      0.83      0.82      1814\n",
            "           1       0.79      0.84      0.82      1828\n",
            "           2       0.83      0.82      0.83      1803\n",
            "           3       0.73      0.78      0.75      1719\n",
            "           4       0.78      0.85      0.82      1812\n",
            "           5       0.79      0.75      0.77      1768\n",
            "           6       0.85      0.76      0.80      1832\n",
            "           7       0.87      0.82      0.84      1808\n",
            "           8       0.78      0.76      0.77      1812\n",
            "           9       0.81      0.79      0.80      1804\n",
            "\n",
            "    accuracy                           0.80     18000\n",
            "   macro avg       0.80      0.80      0.80     18000\n",
            "weighted avg       0.80      0.80      0.80     18000\n",
            "\n"
          ]
        }
      ]
    },
    {
      "cell_type": "code",
      "source": [
        "#capturing learning details per epoch\n",
        "result_v=pd.DataFrame(history_v1.history)\n",
        "result_v['epoch']=history_v1.epoch\n",
        "\n",
        "# plotting Training loss and Validation loss\n",
        "plt.plot(result_v['loss'])\n",
        "plt.plot(result_v['val_loss'])\n",
        "plt.xlabel('epoch')\n",
        "plt.ylabel('Loss')\n",
        "plt.legend((\"train\", \"valid\"), loc=0)"
      ],
      "metadata": {
        "colab": {
          "base_uri": "https://localhost:8080/",
          "height": 466
        },
        "id": "vlDytyz7BEer",
        "outputId": "da162576-708e-4250-d2ed-5852d7e6c9df"
      },
      "execution_count": 22,
      "outputs": [
        {
          "output_type": "execute_result",
          "data": {
            "text/plain": [
              "<matplotlib.legend.Legend at 0x7eba1ab2a9e0>"
            ]
          },
          "metadata": {},
          "execution_count": 22
        },
        {
          "output_type": "display_data",
          "data": {
            "text/plain": [
              "<Figure size 640x480 with 1 Axes>"
            ],
            "image/png": "[encoded data removed]"
          },
          "metadata": {}
        }
      ]
    },
    {
      "cell_type": "code",
      "source": [
        "# plotting Training loss and Validation loss\n",
        "plt.plot(result_v['accuracy'])\n",
        "plt.plot(result_v['val_accuracy'])\n",
        "plt.xlabel('epoch')\n",
        "plt.ylabel('Accuracy')\n",
        "plt.legend((\"train\", \"valid\"), loc=0)"
      ],
      "metadata": {
        "colab": {
          "base_uri": "https://localhost:8080/",
          "height": 467
        },
        "id": "drKud1_aBgGD",
        "outputId": "974b1f83-b3f4-4b62-8757-ef81da2f7c0c"
      },
      "execution_count": 23,
      "outputs": [
        {
          "output_type": "execute_result",
          "data": {
            "text/plain": [
              "<matplotlib.legend.Legend at 0x7eba1aba3430>"
            ]
          },
          "metadata": {},
          "execution_count": 23
        },
        {
          "output_type": "display_data",
          "data": {
            "text/plain": [
              "<Figure size 640x480 with 1 Axes>"
            ],
            "image/png": "[encoded data removed]"
          },
          "metadata": {}
        }
      ]
    },
    {
      "cell_type": "markdown",
      "source": [
        "The model was built using simple neural network with 10 classes in the dataset.\n",
        "\n",
        "we could see from the built NN the accuracy for this model achieved is 80% on test data.\n",
        "\n",
        "From the **performance metrics** we could see that the precision which tells how accuartely the model identifies the each class predicted between 75%-87% of them right.\n",
        "\n",
        "Recall:identified each actual instances correctly with percentage between 74-86%.\n",
        "\n",
        "F1: balanced both the precision and recall.\n",
        "\n",
        "From graph it looks that the loss in training (0.40) and validation (0.50) is closely converging at 0.45 and at test the loss is 0.70. Similar is seen with the accuracy in train (87%) and validation (84%) and at test the accuracy is at 81%. This could be achievable at best suitable parameters: epoch =100, batch_size=200, adam optimizer with learning rate 0.001."
      ],
      "metadata": {
        "id": "UK4YkL2YRFc2"
      }
    },
    {
      "cell_type": "markdown",
      "source": [
        "**New model with Batch Normalization.**"
      ],
      "metadata": {
        "id": "minxMzF_B6zm"
      }
    },
    {
      "cell_type": "code",
      "source": [
        "backend.clear_session()\n",
        "np.random.seed(42)\n",
        "import random\n",
        "random.seed(42)\n",
        "tf.random.set_seed(42)\n",
        "\n",
        "model_v_1=Sequential()\n",
        "# input layer\n",
        "model_v_1.add(Dense(256, activation='relu', kernel_initializer='he_normal', input_shape=(1024,)))\n",
        "model_v_1.add(BatchNormalization())\n",
        "model_v_1.add(Dense(128, activation='relu', kernel_initializer='he_normal')) #1st hidden layer\n",
        "model_v_1.add(BatchNormalization())\n",
        "model_v_1.add(Dense(64, activation='relu', kernel_initializer='he_normal')) #2nd hidden layer\n",
        "model_v_1.add(BatchNormalization())\n",
        "model_v_1.add(Dense(32, activation='relu', kernel_initializer='he_normal')) # 3rd hidden layer\n",
        "model_v_1.add(BatchNormalization())\n",
        "model_v_1.add(Dense(10, activation='softmax'))\n",
        "\n",
        "adam=Adam(learning_rate=0.001)\n",
        "\n",
        "model_v_1.compile(optimizer=adam, loss='categorical_crossentropy', metrics=['accuracy'])\n",
        "\n"
      ],
      "metadata": {
        "colab": {
          "base_uri": "https://localhost:8080/"
        },
        "id": "4D6_iLeMTFUT",
        "outputId": "fde3aaae-99e7-44e3-da06-8609dbdc911f"
      },
      "execution_count": 24,
      "outputs": [
        {
          "output_type": "stream",
          "name": "stderr",
          "text": [
            "/usr/local/lib/python3.10/dist-packages/keras/src/layers/core/dense.py:87: UserWarning: Do not pass an `input_shape`/`input_dim` argument to a layer. When using Sequential models, prefer using an `Input(shape)` object as the first layer in the model instead.\n",
            "  super().__init__(activity_regularizer=activity_regularizer, **kwargs)\n"
          ]
        }
      ]
    },
    {
      "cell_type": "code",
      "source": [
        "model_v_1.summary()"
      ],
      "metadata": {
        "id": "z1QAOTiYBimg",
        "colab": {
          "base_uri": "https://localhost:8080/",
          "height": 481
        },
        "outputId": "df7da9d8-99ea-4429-8f4a-52f3e1a74262"
      },
      "execution_count": 25,
      "outputs": [
        {
          "output_type": "display_data",
          "data": {
            "text/plain": [
              "\u001b[1mModel: \"sequential\"\u001b[0m\n"
            ],
            "text/html": [
              "<pre style=\"white-space:pre;overflow-x:auto;line-height:normal;font-family:Menlo,'DejaVu Sans Mono',consolas,'Courier New',monospace\"><span style=\"font-weight: bold\">Model: \"sequential\"</span>\n",
              "</pre>\n"
            ]
          },
          "metadata": {}
        },
        {
          "output_type": "display_data",
          "data": {
            "text/plain": [
              "┏━━━━━━━━━━━━━━━━━━━━━━━━━━━━━━━━━━━━━━┳━━━━━━━━━━━━━━━━━━━━━━━━━━━━━┳━━━━━━━━━━━━━━━━━┓\n",
              "┃\u001b[1m \u001b[0m\u001b[1mLayer (type)                        \u001b[0m\u001b[1m \u001b[0m┃\u001b[1m \u001b[0m\u001b[1mOutput Shape               \u001b[0m\u001b[1m \u001b[0m┃\u001b[1m \u001b[0m\u001b[1m        Param #\u001b[0m\u001b[1m \u001b[0m┃\n",
              "┡━━━━━━━━━━━━━━━━━━━━━━━━━━━━━━━━━━━━━━╇━━━━━━━━━━━━━━━━━━━━━━━━━━━━━╇━━━━━━━━━━━━━━━━━┩\n",
              "│ dense (\u001b[38;5;33mDense\u001b[0m)                        │ (\u001b[38;5;45mNone\u001b[0m, \u001b[38;5;34m256\u001b[0m)                 │         \u001b[38;5;34m262,400\u001b[0m │\n",
              "├──────────────────────────────────────┼─────────────────────────────┼─────────────────┤\n",
              "│ batch_normalization                  │ (\u001b[38;5;45mNone\u001b[0m, \u001b[38;5;34m256\u001b[0m)                 │           \u001b[38;5;34m1,024\u001b[0m │\n",
              "│ (\u001b[38;5;33mBatchNormalization\u001b[0m)                 │                             │                 │\n",
              "├──────────────────────────────────────┼─────────────────────────────┼─────────────────┤\n",
              "│ dense_1 (\u001b[38;5;33mDense\u001b[0m)                      │ (\u001b[38;5;45mNone\u001b[0m, \u001b[38;5;34m128\u001b[0m)                 │          \u001b[38;5;34m32,896\u001b[0m │\n",
              "├──────────────────────────────────────┼─────────────────────────────┼─────────────────┤\n",
              "│ batch_normalization_1                │ (\u001b[38;5;45mNone\u001b[0m, \u001b[38;5;34m128\u001b[0m)                 │             \u001b[38;5;34m512\u001b[0m │\n",
              "│ (\u001b[38;5;33mBatchNormalization\u001b[0m)                 │                             │                 │\n",
              "├──────────────────────────────────────┼─────────────────────────────┼─────────────────┤\n",
              "│ dense_2 (\u001b[38;5;33mDense\u001b[0m)                      │ (\u001b[38;5;45mNone\u001b[0m, \u001b[38;5;34m64\u001b[0m)                  │           \u001b[38;5;34m8,256\u001b[0m │\n",
              "├──────────────────────────────────────┼─────────────────────────────┼─────────────────┤\n",
              "│ batch_normalization_2                │ (\u001b[38;5;45mNone\u001b[0m, \u001b[38;5;34m64\u001b[0m)                  │             \u001b[38;5;34m256\u001b[0m │\n",
              "│ (\u001b[38;5;33mBatchNormalization\u001b[0m)                 │                             │                 │\n",
              "├──────────────────────────────────────┼─────────────────────────────┼─────────────────┤\n",
              "│ dense_3 (\u001b[38;5;33mDense\u001b[0m)                      │ (\u001b[38;5;45mNone\u001b[0m, \u001b[38;5;34m32\u001b[0m)                  │           \u001b[38;5;34m2,080\u001b[0m │\n",
              "├──────────────────────────────────────┼─────────────────────────────┼─────────────────┤\n",
              "│ batch_normalization_3                │ (\u001b[38;5;45mNone\u001b[0m, \u001b[38;5;34m32\u001b[0m)                  │             \u001b[38;5;34m128\u001b[0m │\n",
              "│ (\u001b[38;5;33mBatchNormalization\u001b[0m)                 │                             │                 │\n",
              "├──────────────────────────────────────┼─────────────────────────────┼─────────────────┤\n",
              "│ dense_4 (\u001b[38;5;33mDense\u001b[0m)                      │ (\u001b[38;5;45mNone\u001b[0m, \u001b[38;5;34m10\u001b[0m)                  │             \u001b[38;5;34m330\u001b[0m │\n",
              "└──────────────────────────────────────┴─────────────────────────────┴─────────────────┘\n"
            ],
            "text/html": [
              "<pre style=\"white-space:pre;overflow-x:auto;line-height:normal;font-family:Menlo,'DejaVu Sans Mono',consolas,'Courier New',monospace\">┏━━━━━━━━━━━━━━━━━━━━━━━━━━━━━━━━━━━━━━┳━━━━━━━━━━━━━━━━━━━━━━━━━━━━━┳━━━━━━━━━━━━━━━━━┓\n",
              "┃<span style=\"font-weight: bold\"> Layer (type)                         </span>┃<span style=\"font-weight: bold\"> Output Shape                </span>┃<span style=\"font-weight: bold\">         Param # </span>┃\n",
              "┡━━━━━━━━━━━━━━━━━━━━━━━━━━━━━━━━━━━━━━╇━━━━━━━━━━━━━━━━━━━━━━━━━━━━━╇━━━━━━━━━━━━━━━━━┩\n",
              "│ dense (<span style=\"color: #0087ff; text-decoration-color: #0087ff\">Dense</span>)                        │ (<span style=\"color: #00d7ff; text-decoration-color: #00d7ff\">None</span>, <span style=\"color: #00af00; text-decoration-color: #00af00\">256</span>)                 │         <span style=\"color: #00af00; text-decoration-color: #00af00\">262,400</span> │\n",
              "├──────────────────────────────────────┼─────────────────────────────┼─────────────────┤\n",
              "│ batch_normalization                  │ (<span style=\"color: #00d7ff; text-decoration-color: #00d7ff\">None</span>, <span style=\"color: #00af00; text-decoration-color: #00af00\">256</span>)                 │           <span style=\"color: #00af00; text-decoration-color: #00af00\">1,024</span> │\n",
              "│ (<span style=\"color: #0087ff; text-decoration-color: #0087ff\">BatchNormalization</span>)                 │                             │                 │\n",
              "├──────────────────────────────────────┼─────────────────────────────┼─────────────────┤\n",
              "│ dense_1 (<span style=\"color: #0087ff; text-decoration-color: #0087ff\">Dense</span>)                      │ (<span style=\"color: #00d7ff; text-decoration-color: #00d7ff\">None</span>, <span style=\"color: #00af00; text-decoration-color: #00af00\">128</span>)                 │          <span style=\"color: #00af00; text-decoration-color: #00af00\">32,896</span> │\n",
              "├──────────────────────────────────────┼─────────────────────────────┼─────────────────┤\n",
              "│ batch_normalization_1                │ (<span style=\"color: #00d7ff; text-decoration-color: #00d7ff\">None</span>, <span style=\"color: #00af00; text-decoration-color: #00af00\">128</span>)                 │             <span style=\"color: #00af00; text-decoration-color: #00af00\">512</span> │\n",
              "│ (<span style=\"color: #0087ff; text-decoration-color: #0087ff\">BatchNormalization</span>)                 │                             │                 │\n",
              "├──────────────────────────────────────┼─────────────────────────────┼─────────────────┤\n",
              "│ dense_2 (<span style=\"color: #0087ff; text-decoration-color: #0087ff\">Dense</span>)                      │ (<span style=\"color: #00d7ff; text-decoration-color: #00d7ff\">None</span>, <span style=\"color: #00af00; text-decoration-color: #00af00\">64</span>)                  │           <span style=\"color: #00af00; text-decoration-color: #00af00\">8,256</span> │\n",
              "├──────────────────────────────────────┼─────────────────────────────┼─────────────────┤\n",
              "│ batch_normalization_2                │ (<span style=\"color: #00d7ff; text-decoration-color: #00d7ff\">None</span>, <span style=\"color: #00af00; text-decoration-color: #00af00\">64</span>)                  │             <span style=\"color: #00af00; text-decoration-color: #00af00\">256</span> │\n",
              "│ (<span style=\"color: #0087ff; text-decoration-color: #0087ff\">BatchNormalization</span>)                 │                             │                 │\n",
              "├──────────────────────────────────────┼─────────────────────────────┼─────────────────┤\n",
              "│ dense_3 (<span style=\"color: #0087ff; text-decoration-color: #0087ff\">Dense</span>)                      │ (<span style=\"color: #00d7ff; text-decoration-color: #00d7ff\">None</span>, <span style=\"color: #00af00; text-decoration-color: #00af00\">32</span>)                  │           <span style=\"color: #00af00; text-decoration-color: #00af00\">2,080</span> │\n",
              "├──────────────────────────────────────┼─────────────────────────────┼─────────────────┤\n",
              "│ batch_normalization_3                │ (<span style=\"color: #00d7ff; text-decoration-color: #00d7ff\">None</span>, <span style=\"color: #00af00; text-decoration-color: #00af00\">32</span>)                  │             <span style=\"color: #00af00; text-decoration-color: #00af00\">128</span> │\n",
              "│ (<span style=\"color: #0087ff; text-decoration-color: #0087ff\">BatchNormalization</span>)                 │                             │                 │\n",
              "├──────────────────────────────────────┼─────────────────────────────┼─────────────────┤\n",
              "│ dense_4 (<span style=\"color: #0087ff; text-decoration-color: #0087ff\">Dense</span>)                      │ (<span style=\"color: #00d7ff; text-decoration-color: #00d7ff\">None</span>, <span style=\"color: #00af00; text-decoration-color: #00af00\">10</span>)                  │             <span style=\"color: #00af00; text-decoration-color: #00af00\">330</span> │\n",
              "└──────────────────────────────────────┴─────────────────────────────┴─────────────────┘\n",
              "</pre>\n"
            ]
          },
          "metadata": {}
        },
        {
          "output_type": "display_data",
          "data": {
            "text/plain": [
              "\u001b[1m Total params: \u001b[0m\u001b[38;5;34m307,882\u001b[0m (1.17 MB)\n"
            ],
            "text/html": [
              "<pre style=\"white-space:pre;overflow-x:auto;line-height:normal;font-family:Menlo,'DejaVu Sans Mono',consolas,'Courier New',monospace\"><span style=\"font-weight: bold\"> Total params: </span><span style=\"color: #00af00; text-decoration-color: #00af00\">307,882</span> (1.17 MB)\n",
              "</pre>\n"
            ]
          },
          "metadata": {}
        },
        {
          "output_type": "display_data",
          "data": {
            "text/plain": [
              "\u001b[1m Trainable params: \u001b[0m\u001b[38;5;34m306,922\u001b[0m (1.17 MB)\n"
            ],
            "text/html": [
              "<pre style=\"white-space:pre;overflow-x:auto;line-height:normal;font-family:Menlo,'DejaVu Sans Mono',consolas,'Courier New',monospace\"><span style=\"font-weight: bold\"> Trainable params: </span><span style=\"color: #00af00; text-decoration-color: #00af00\">306,922</span> (1.17 MB)\n",
              "</pre>\n"
            ]
          },
          "metadata": {}
        },
        {
          "output_type": "display_data",
          "data": {
            "text/plain": [
              "\u001b[1m Non-trainable params: \u001b[0m\u001b[38;5;34m960\u001b[0m (3.75 KB)\n"
            ],
            "text/html": [
              "<pre style=\"white-space:pre;overflow-x:auto;line-height:normal;font-family:Menlo,'DejaVu Sans Mono',consolas,'Courier New',monospace\"><span style=\"font-weight: bold\"> Non-trainable params: </span><span style=\"color: #00af00; text-decoration-color: #00af00\">960</span> (3.75 KB)\n",
              "</pre>\n"
            ]
          },
          "metadata": {}
        }
      ]
    },
    {
      "cell_type": "code",
      "source": [
        "history_v2=model_v_1.fit(X_train, y_train, epochs=100, batch_size=200, validation_data=(X_val, y_val), verbose=2)"
      ],
      "metadata": {
        "id": "M7c1LQG5Bhkg",
        "colab": {
          "base_uri": "https://localhost:8080/"
        },
        "outputId": "ca2f14e8-3369-4b30-b27b-a37ee45c49d7"
      },
      "execution_count": 26,
      "outputs": [
        {
          "output_type": "stream",
          "name": "stdout",
          "text": [
            "Epoch 1/100\n",
            "210/210 - 7s - 33ms/step - accuracy: 0.4849 - loss: 1.5824 - val_accuracy: 0.4150 - val_loss: 1.7818\n",
            "Epoch 2/100\n",
            "210/210 - 2s - 8ms/step - accuracy: 0.6811 - loss: 1.0258 - val_accuracy: 0.3198 - val_loss: 2.0879\n",
            "Epoch 3/100\n",
            "210/210 - 1s - 7ms/step - accuracy: 0.7280 - loss: 0.8733 - val_accuracy: 0.4461 - val_loss: 1.7430\n",
            "Epoch 4/100\n",
            "210/210 - 1s - 7ms/step - accuracy: 0.7570 - loss: 0.7801 - val_accuracy: 0.4713 - val_loss: 1.7156\n",
            "Epoch 5/100\n",
            "210/210 - 1s - 7ms/step - accuracy: 0.7795 - loss: 0.7110 - val_accuracy: 0.5311 - val_loss: 1.5369\n",
            "Epoch 6/100\n",
            "210/210 - 2s - 11ms/step - accuracy: 0.7886 - loss: 0.6758 - val_accuracy: 0.6057 - val_loss: 1.2722\n",
            "Epoch 7/100\n",
            "210/210 - 1s - 6ms/step - accuracy: 0.8053 - loss: 0.6204 - val_accuracy: 0.6677 - val_loss: 1.0645\n",
            "Epoch 8/100\n",
            "210/210 - 1s - 5ms/step - accuracy: 0.8182 - loss: 0.5817 - val_accuracy: 0.7317 - val_loss: 0.8643\n",
            "Epoch 9/100\n",
            "210/210 - 1s - 7ms/step - accuracy: 0.8264 - loss: 0.5583 - val_accuracy: 0.6096 - val_loss: 1.2161\n",
            "Epoch 10/100\n",
            "210/210 - 1s - 5ms/step - accuracy: 0.8302 - loss: 0.5426 - val_accuracy: 0.6977 - val_loss: 0.9734\n",
            "Epoch 11/100\n",
            "210/210 - 1s - 6ms/step - accuracy: 0.8334 - loss: 0.5274 - val_accuracy: 0.7405 - val_loss: 0.8351\n",
            "Epoch 12/100\n",
            "210/210 - 1s - 6ms/step - accuracy: 0.8433 - loss: 0.4957 - val_accuracy: 0.7652 - val_loss: 0.7449\n",
            "Epoch 13/100\n",
            "210/210 - 2s - 10ms/step - accuracy: 0.8506 - loss: 0.4746 - val_accuracy: 0.6840 - val_loss: 1.0378\n",
            "Epoch 14/100\n",
            "210/210 - 2s - 10ms/step - accuracy: 0.8546 - loss: 0.4598 - val_accuracy: 0.7390 - val_loss: 0.8731\n",
            "Epoch 15/100\n",
            "210/210 - 2s - 7ms/step - accuracy: 0.8564 - loss: 0.4550 - val_accuracy: 0.7193 - val_loss: 0.9360\n",
            "Epoch 16/100\n",
            "210/210 - 1s - 5ms/step - accuracy: 0.8666 - loss: 0.4274 - val_accuracy: 0.7702 - val_loss: 0.7636\n",
            "Epoch 17/100\n",
            "210/210 - 1s - 6ms/step - accuracy: 0.8706 - loss: 0.4148 - val_accuracy: 0.7772 - val_loss: 0.7737\n",
            "Epoch 18/100\n",
            "210/210 - 1s - 7ms/step - accuracy: 0.8752 - loss: 0.4006 - val_accuracy: 0.7634 - val_loss: 0.8092\n",
            "Epoch 19/100\n",
            "210/210 - 1s - 6ms/step - accuracy: 0.8776 - loss: 0.3885 - val_accuracy: 0.7512 - val_loss: 0.8464\n",
            "Epoch 20/100\n",
            "210/210 - 1s - 5ms/step - accuracy: 0.8801 - loss: 0.3829 - val_accuracy: 0.7243 - val_loss: 0.9376\n",
            "Epoch 21/100\n",
            "210/210 - 1s - 5ms/step - accuracy: 0.8804 - loss: 0.3776 - val_accuracy: 0.7193 - val_loss: 1.0117\n",
            "Epoch 22/100\n",
            "210/210 - 1s - 7ms/step - accuracy: 0.8854 - loss: 0.3632 - val_accuracy: 0.7370 - val_loss: 0.9046\n",
            "Epoch 23/100\n",
            "210/210 - 1s - 7ms/step - accuracy: 0.8881 - loss: 0.3531 - val_accuracy: 0.6841 - val_loss: 1.1341\n",
            "Epoch 24/100\n",
            "210/210 - 2s - 11ms/step - accuracy: 0.8936 - loss: 0.3405 - val_accuracy: 0.6836 - val_loss: 1.2410\n",
            "Epoch 25/100\n",
            "210/210 - 1s - 6ms/step - accuracy: 0.8948 - loss: 0.3342 - val_accuracy: 0.6574 - val_loss: 1.3126\n",
            "Epoch 26/100\n",
            "210/210 - 1s - 5ms/step - accuracy: 0.8923 - loss: 0.3389 - val_accuracy: 0.6415 - val_loss: 1.4034\n",
            "Epoch 27/100\n",
            "210/210 - 1s - 7ms/step - accuracy: 0.8974 - loss: 0.3278 - val_accuracy: 0.6579 - val_loss: 1.3410\n",
            "Epoch 28/100\n",
            "210/210 - 1s - 6ms/step - accuracy: 0.8997 - loss: 0.3185 - val_accuracy: 0.6645 - val_loss: 1.3828\n",
            "Epoch 29/100\n",
            "210/210 - 1s - 6ms/step - accuracy: 0.9023 - loss: 0.3092 - val_accuracy: 0.6905 - val_loss: 1.2276\n",
            "Epoch 30/100\n",
            "210/210 - 1s - 5ms/step - accuracy: 0.9046 - loss: 0.3040 - val_accuracy: 0.7016 - val_loss: 1.1252\n",
            "Epoch 31/100\n",
            "210/210 - 1s - 6ms/step - accuracy: 0.9055 - loss: 0.2995 - val_accuracy: 0.7163 - val_loss: 1.1513\n",
            "Epoch 32/100\n",
            "210/210 - 1s - 7ms/step - accuracy: 0.9079 - loss: 0.2925 - val_accuracy: 0.6119 - val_loss: 1.8601\n",
            "Epoch 33/100\n",
            "210/210 - 2s - 10ms/step - accuracy: 0.9078 - loss: 0.2910 - val_accuracy: 0.6672 - val_loss: 1.4193\n",
            "Epoch 34/100\n",
            "210/210 - 2s - 10ms/step - accuracy: 0.9102 - loss: 0.2844 - val_accuracy: 0.7149 - val_loss: 1.1275\n",
            "Epoch 35/100\n",
            "210/210 - 2s - 7ms/step - accuracy: 0.9139 - loss: 0.2722 - val_accuracy: 0.6869 - val_loss: 1.2814\n",
            "Epoch 36/100\n",
            "210/210 - 1s - 7ms/step - accuracy: 0.9122 - loss: 0.2772 - val_accuracy: 0.6910 - val_loss: 1.2674\n",
            "Epoch 37/100\n",
            "210/210 - 1s - 5ms/step - accuracy: 0.9157 - loss: 0.2639 - val_accuracy: 0.7217 - val_loss: 1.1216\n",
            "Epoch 38/100\n",
            "210/210 - 1s - 6ms/step - accuracy: 0.9132 - loss: 0.2712 - val_accuracy: 0.7100 - val_loss: 1.1982\n",
            "Epoch 39/100\n",
            "210/210 - 1s - 7ms/step - accuracy: 0.9172 - loss: 0.2594 - val_accuracy: 0.6984 - val_loss: 1.2298\n",
            "Epoch 40/100\n",
            "210/210 - 1s - 6ms/step - accuracy: 0.9179 - loss: 0.2535 - val_accuracy: 0.6753 - val_loss: 1.3963\n",
            "Epoch 41/100\n",
            "210/210 - 1s - 6ms/step - accuracy: 0.9188 - loss: 0.2528 - val_accuracy: 0.6933 - val_loss: 1.2538\n",
            "Epoch 42/100\n",
            "210/210 - 2s - 9ms/step - accuracy: 0.9224 - loss: 0.2451 - val_accuracy: 0.6491 - val_loss: 1.5182\n",
            "Epoch 43/100\n",
            "210/210 - 2s - 10ms/step - accuracy: 0.9208 - loss: 0.2452 - val_accuracy: 0.6597 - val_loss: 1.4589\n",
            "Epoch 44/100\n",
            "210/210 - 1s - 5ms/step - accuracy: 0.9232 - loss: 0.2397 - val_accuracy: 0.6623 - val_loss: 1.4825\n",
            "Epoch 45/100\n",
            "210/210 - 1s - 6ms/step - accuracy: 0.9255 - loss: 0.2366 - val_accuracy: 0.6889 - val_loss: 1.3026\n",
            "Epoch 46/100\n",
            "210/210 - 1s - 5ms/step - accuracy: 0.9250 - loss: 0.2324 - val_accuracy: 0.7124 - val_loss: 1.1839\n",
            "Epoch 47/100\n",
            "210/210 - 1s - 6ms/step - accuracy: 0.9264 - loss: 0.2314 - val_accuracy: 0.7229 - val_loss: 1.1553\n",
            "Epoch 48/100\n",
            "210/210 - 1s - 5ms/step - accuracy: 0.9286 - loss: 0.2227 - val_accuracy: 0.6665 - val_loss: 1.4595\n",
            "Epoch 49/100\n",
            "210/210 - 1s - 7ms/step - accuracy: 0.9306 - loss: 0.2190 - val_accuracy: 0.6890 - val_loss: 1.3351\n",
            "Epoch 50/100\n",
            "210/210 - 1s - 6ms/step - accuracy: 0.9318 - loss: 0.2153 - val_accuracy: 0.6953 - val_loss: 1.3588\n",
            "Epoch 51/100\n",
            "210/210 - 1s - 6ms/step - accuracy: 0.9339 - loss: 0.2111 - val_accuracy: 0.6666 - val_loss: 1.7620\n",
            "Epoch 52/100\n",
            "210/210 - 2s - 9ms/step - accuracy: 0.9341 - loss: 0.2071 - val_accuracy: 0.7188 - val_loss: 1.2222\n",
            "Epoch 53/100\n",
            "210/210 - 2s - 9ms/step - accuracy: 0.9334 - loss: 0.2060 - val_accuracy: 0.7096 - val_loss: 1.3278\n",
            "Epoch 54/100\n",
            "210/210 - 2s - 11ms/step - accuracy: 0.9351 - loss: 0.2021 - val_accuracy: 0.6973 - val_loss: 1.3709\n",
            "Epoch 55/100\n",
            "210/210 - 1s - 6ms/step - accuracy: 0.9342 - loss: 0.2033 - val_accuracy: 0.6853 - val_loss: 1.6010\n",
            "Epoch 56/100\n",
            "210/210 - 1s - 6ms/step - accuracy: 0.9358 - loss: 0.1986 - val_accuracy: 0.6848 - val_loss: 1.6161\n",
            "Epoch 57/100\n",
            "210/210 - 1s - 6ms/step - accuracy: 0.9342 - loss: 0.2059 - val_accuracy: 0.7267 - val_loss: 1.2824\n",
            "Epoch 58/100\n",
            "210/210 - 1s - 6ms/step - accuracy: 0.9370 - loss: 0.1965 - val_accuracy: 0.7223 - val_loss: 1.2241\n",
            "Epoch 59/100\n",
            "210/210 - 1s - 5ms/step - accuracy: 0.9353 - loss: 0.1959 - val_accuracy: 0.7116 - val_loss: 1.3104\n",
            "Epoch 60/100\n",
            "210/210 - 1s - 6ms/step - accuracy: 0.9335 - loss: 0.1996 - val_accuracy: 0.7009 - val_loss: 1.4086\n",
            "Epoch 61/100\n",
            "210/210 - 2s - 9ms/step - accuracy: 0.9413 - loss: 0.1841 - val_accuracy: 0.7342 - val_loss: 1.1744\n",
            "Epoch 62/100\n",
            "210/210 - 2s - 7ms/step - accuracy: 0.9416 - loss: 0.1814 - val_accuracy: 0.7413 - val_loss: 1.1354\n",
            "Epoch 63/100\n",
            "210/210 - 2s - 10ms/step - accuracy: 0.9392 - loss: 0.1834 - val_accuracy: 0.7396 - val_loss: 1.1188\n",
            "Epoch 64/100\n",
            "210/210 - 1s - 5ms/step - accuracy: 0.9398 - loss: 0.1822 - val_accuracy: 0.7575 - val_loss: 1.0783\n",
            "Epoch 65/100\n",
            "210/210 - 1s - 5ms/step - accuracy: 0.9410 - loss: 0.1800 - val_accuracy: 0.7517 - val_loss: 1.0921\n",
            "Epoch 66/100\n",
            "210/210 - 1s - 6ms/step - accuracy: 0.9426 - loss: 0.1760 - val_accuracy: 0.7325 - val_loss: 1.2294\n",
            "Epoch 67/100\n",
            "210/210 - 1s - 6ms/step - accuracy: 0.9407 - loss: 0.1794 - val_accuracy: 0.7449 - val_loss: 1.1678\n",
            "Epoch 68/100\n",
            "210/210 - 1s - 6ms/step - accuracy: 0.9391 - loss: 0.1829 - val_accuracy: 0.7651 - val_loss: 1.0453\n",
            "Epoch 69/100\n",
            "210/210 - 1s - 5ms/step - accuracy: 0.9430 - loss: 0.1722 - val_accuracy: 0.7113 - val_loss: 1.2756\n",
            "Epoch 70/100\n",
            "210/210 - 1s - 6ms/step - accuracy: 0.9431 - loss: 0.1717 - val_accuracy: 0.7198 - val_loss: 1.3736\n",
            "Epoch 71/100\n",
            "210/210 - 2s - 10ms/step - accuracy: 0.9460 - loss: 0.1666 - val_accuracy: 0.7822 - val_loss: 0.9523\n",
            "Epoch 72/100\n",
            "210/210 - 2s - 8ms/step - accuracy: 0.9480 - loss: 0.1587 - val_accuracy: 0.7481 - val_loss: 1.1628\n",
            "Epoch 73/100\n",
            "210/210 - 1s - 5ms/step - accuracy: 0.9475 - loss: 0.1605 - val_accuracy: 0.7487 - val_loss: 1.1644\n",
            "Epoch 74/100\n",
            "210/210 - 1s - 5ms/step - accuracy: 0.9489 - loss: 0.1566 - val_accuracy: 0.7340 - val_loss: 1.2880\n",
            "Epoch 75/100\n",
            "210/210 - 1s - 6ms/step - accuracy: 0.9518 - loss: 0.1499 - val_accuracy: 0.7668 - val_loss: 1.1187\n",
            "Epoch 76/100\n",
            "210/210 - 1s - 7ms/step - accuracy: 0.9496 - loss: 0.1535 - val_accuracy: 0.7443 - val_loss: 1.3588\n",
            "Epoch 77/100\n",
            "210/210 - 1s - 6ms/step - accuracy: 0.9507 - loss: 0.1489 - val_accuracy: 0.7909 - val_loss: 1.0028\n",
            "Epoch 78/100\n",
            "210/210 - 1s - 6ms/step - accuracy: 0.9528 - loss: 0.1441 - val_accuracy: 0.7515 - val_loss: 1.2813\n",
            "Epoch 79/100\n",
            "210/210 - 1s - 5ms/step - accuracy: 0.9515 - loss: 0.1461 - val_accuracy: 0.7897 - val_loss: 0.9875\n",
            "Epoch 80/100\n",
            "210/210 - 1s - 6ms/step - accuracy: 0.9544 - loss: 0.1380 - val_accuracy: 0.7718 - val_loss: 1.1469\n",
            "Epoch 81/100\n",
            "210/210 - 1s - 7ms/step - accuracy: 0.9519 - loss: 0.1427 - val_accuracy: 0.7473 - val_loss: 1.2808\n",
            "Epoch 82/100\n",
            "210/210 - 2s - 7ms/step - accuracy: 0.9500 - loss: 0.1493 - val_accuracy: 0.7666 - val_loss: 1.1287\n",
            "Epoch 83/100\n",
            "210/210 - 2s - 10ms/step - accuracy: 0.9490 - loss: 0.1503 - val_accuracy: 0.7988 - val_loss: 0.9388\n",
            "Epoch 84/100\n",
            "210/210 - 1s - 6ms/step - accuracy: 0.9507 - loss: 0.1430 - val_accuracy: 0.7649 - val_loss: 1.2086\n",
            "Epoch 85/100\n",
            "210/210 - 1s - 6ms/step - accuracy: 0.9538 - loss: 0.1419 - val_accuracy: 0.7939 - val_loss: 1.0472\n",
            "Epoch 86/100\n",
            "210/210 - 1s - 5ms/step - accuracy: 0.9571 - loss: 0.1300 - val_accuracy: 0.7826 - val_loss: 1.0487\n",
            "Epoch 87/100\n",
            "210/210 - 1s - 7ms/step - accuracy: 0.9590 - loss: 0.1247 - val_accuracy: 0.7754 - val_loss: 1.1271\n",
            "Epoch 88/100\n",
            "210/210 - 1s - 5ms/step - accuracy: 0.9578 - loss: 0.1284 - val_accuracy: 0.7918 - val_loss: 1.0417\n",
            "Epoch 89/100\n",
            "210/210 - 1s - 5ms/step - accuracy: 0.9550 - loss: 0.1344 - val_accuracy: 0.7795 - val_loss: 1.1671\n",
            "Epoch 90/100\n",
            "210/210 - 1s - 6ms/step - accuracy: 0.9553 - loss: 0.1327 - val_accuracy: 0.7791 - val_loss: 1.1783\n",
            "Epoch 91/100\n",
            "210/210 - 1s - 7ms/step - accuracy: 0.9566 - loss: 0.1299 - val_accuracy: 0.7542 - val_loss: 1.3653\n",
            "Epoch 92/100\n",
            "210/210 - 1s - 7ms/step - accuracy: 0.9577 - loss: 0.1261 - val_accuracy: 0.7881 - val_loss: 1.1288\n",
            "Epoch 93/100\n",
            "210/210 - 1s - 6ms/step - accuracy: 0.9559 - loss: 0.1306 - val_accuracy: 0.7749 - val_loss: 1.1732\n",
            "Epoch 94/100\n",
            "210/210 - 2s - 11ms/step - accuracy: 0.9577 - loss: 0.1234 - val_accuracy: 0.7695 - val_loss: 1.1840\n",
            "Epoch 95/100\n",
            "210/210 - 1s - 5ms/step - accuracy: 0.9581 - loss: 0.1238 - val_accuracy: 0.7702 - val_loss: 1.2673\n",
            "Epoch 96/100\n",
            "210/210 - 1s - 6ms/step - accuracy: 0.9594 - loss: 0.1195 - val_accuracy: 0.7993 - val_loss: 1.0315\n",
            "Epoch 97/100\n",
            "210/210 - 1s - 5ms/step - accuracy: 0.9614 - loss: 0.1157 - val_accuracy: 0.7744 - val_loss: 1.2766\n",
            "Epoch 98/100\n",
            "210/210 - 1s - 6ms/step - accuracy: 0.9593 - loss: 0.1223 - val_accuracy: 0.7724 - val_loss: 1.2284\n",
            "Epoch 99/100\n",
            "210/210 - 1s - 6ms/step - accuracy: 0.9603 - loss: 0.1174 - val_accuracy: 0.7505 - val_loss: 1.4314\n",
            "Epoch 100/100\n",
            "210/210 - 1s - 6ms/step - accuracy: 0.9646 - loss: 0.1073 - val_accuracy: 0.7874 - val_loss: 1.0985\n"
          ]
        }
      ]
    },
    {
      "cell_type": "code",
      "source": [
        "results_test_batch=model_v.evaluate(X_test, y_test)\n",
        "print('loss:', results_test_batch[0])\n",
        "print('accuracy:', results_test_batch[1])"
      ],
      "metadata": {
        "id": "BpCWvpJoCJi0",
        "colab": {
          "base_uri": "https://localhost:8080/"
        },
        "outputId": "e563a27e-3ac1-4002-a686-6fc963f9f41e"
      },
      "execution_count": 27,
      "outputs": [
        {
          "output_type": "stream",
          "name": "stdout",
          "text": [
            "\u001b[1m563/563\u001b[0m \u001b[32m━━━━━━━━━━━━━━━━━━━━\u001b[0m\u001b[37m\u001b[0m \u001b[1m1s\u001b[0m 2ms/step - accuracy: 0.8062 - loss: 0.7120\n",
            "loss: 0.7445113062858582\n",
            "accuracy: 0.8008333444595337\n"
          ]
        }
      ]
    },
    {
      "cell_type": "code",
      "source": [
        "y_predict_batch=model_v.predict(X_test)\n",
        "\n",
        "from sklearn import metrics\n",
        "from sklearn.metrics import classification_report\n",
        "\n",
        "vehicle_batch=classification_report(y_test.argmax(axis=1), y_predict_batch.argmax(axis=1))\n",
        "\n",
        "print('performance metrics:', '\\n\\n', vehicle_batch)"
      ],
      "metadata": {
        "id": "a-OEYkjTCX0I",
        "colab": {
          "base_uri": "https://localhost:8080/"
        },
        "outputId": "1b31c3e1-41d1-4448-bb80-6b33b33359f3"
      },
      "execution_count": 28,
      "outputs": [
        {
          "output_type": "stream",
          "name": "stdout",
          "text": [
            "\u001b[1m563/563\u001b[0m \u001b[32m━━━━━━━━━━━━━━━━━━━━\u001b[0m\u001b[37m\u001b[0m \u001b[1m1s\u001b[0m 1ms/step\n",
            "performance metrics: \n",
            "\n",
            "               precision    recall  f1-score   support\n",
            "\n",
            "           0       0.80      0.83      0.82      1814\n",
            "           1       0.79      0.84      0.82      1828\n",
            "           2       0.83      0.82      0.83      1803\n",
            "           3       0.73      0.78      0.75      1719\n",
            "           4       0.78      0.85      0.82      1812\n",
            "           5       0.79      0.75      0.77      1768\n",
            "           6       0.85      0.76      0.80      1832\n",
            "           7       0.87      0.82      0.84      1808\n",
            "           8       0.78      0.76      0.77      1812\n",
            "           9       0.81      0.79      0.80      1804\n",
            "\n",
            "    accuracy                           0.80     18000\n",
            "   macro avg       0.80      0.80      0.80     18000\n",
            "weighted avg       0.80      0.80      0.80     18000\n",
            "\n"
          ]
        }
      ]
    },
    {
      "cell_type": "code",
      "source": [
        "#capturing learning details per epoch\n",
        "result_batch=pd.DataFrame(history_v2.history)\n",
        "result_batch['epoch']=history_v2.epoch\n",
        "\n",
        "# plotting Training loss and Validation loss\n",
        "plt.plot(result_batch['loss'])\n",
        "plt.plot(result_batch['val_loss'])\n",
        "plt.xlabel('epoch')\n",
        "plt.ylabel('Loss')\n",
        "plt.legend((\"train\", \"valid\"), loc=0)"
      ],
      "metadata": {
        "id": "O8qx6Wn9CnSK",
        "colab": {
          "base_uri": "https://localhost:8080/",
          "height": 466
        },
        "outputId": "a28b7d55-4bae-4fba-ee63-b62e3429e381"
      },
      "execution_count": 29,
      "outputs": [
        {
          "output_type": "execute_result",
          "data": {
            "text/plain": [
              "<matplotlib.legend.Legend at 0x7eba1b3aef80>"
            ]
          },
          "metadata": {},
          "execution_count": 29
        },
        {
          "output_type": "display_data",
          "data": {
            "text/plain": [
              "<Figure size 640x480 with 1 Axes>"
            ],
            "image/png": "[encoded data removed]"
          },
          "metadata": {}
        }
      ]
    },
    {
      "cell_type": "code",
      "source": [
        "# plotting Training loss and Validation loss\n",
        "plt.plot(result_batch['accuracy'])\n",
        "plt.plot(result_batch['val_accuracy'])\n",
        "plt.xlabel('epoch')\n",
        "plt.ylabel('Accuracy')\n",
        "plt.legend((\"train\", \"valid\"), loc=0)"
      ],
      "metadata": {
        "id": "1RyjQS7BCq0f",
        "colab": {
          "base_uri": "https://localhost:8080/",
          "height": 466
        },
        "outputId": "fb8aaa2e-0401-4b07-8e74-c7674672dc20"
      },
      "execution_count": 30,
      "outputs": [
        {
          "output_type": "execute_result",
          "data": {
            "text/plain": [
              "<matplotlib.legend.Legend at 0x7eba1b11a440>"
            ]
          },
          "metadata": {},
          "execution_count": 30
        },
        {
          "output_type": "display_data",
          "data": {
            "text/plain": [
              "<Figure size 640x480 with 1 Axes>"
            ],
            "image/png": "[encoded data removed]"
          },
          "metadata": {}
        }
      ]
    },
    {
      "cell_type": "markdown",
      "source": [
        "When tried to build the new model with batchnormalization and kernel initiliazer the model seems to be overfitting on training data at accuracy of 95% and the loss 0.11. The train and validation loss doesnt converge at all and the loss at the validation is more. This isnt the best model."
      ],
      "metadata": {
        "id": "IVa9MzgWavr0"
      }
    },
    {
      "cell_type": "markdown",
      "source": [
        "**From studying the housing dataset, simple neural network with relu activation function gave the best converging at train and test and also at the accuracy. With the decent amount of accuracy at 81% on test data, we will be able to distinguish digits in the datset.**"
      ],
      "metadata": {
        "id": "TxQf-jZEdIV5"
      }
    }
  ]
}